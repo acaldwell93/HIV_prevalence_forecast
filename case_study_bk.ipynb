{
 "cells": [
  {
   "cell_type": "code",
   "execution_count": 31,
   "metadata": {},
   "outputs": [],
   "source": [
    "import pandas as pd\n",
    "import matplotlib.pyplot as plt\n",
    "import numpy as np\n",
    "import sklearn\n",
    "import seaborn as sns\n",
    "import numpy as np\n",
    "\n",
    "\n",
    "from sklearn.model_selection import train_test_split\n",
    "from sklearn.linear_model import LinearRegression\n",
    "from sklearn.metrics import mean_squared_error\n",
    "\n",
    "\n",
    "import statsmodels.api as sm"
   ]
  },
  {
   "cell_type": "code",
   "execution_count": 32,
   "metadata": {},
   "outputs": [
    {
     "data": {
      "text/html": [
       "<div>\n",
       "<style scoped>\n",
       "    .dataframe tbody tr th:only-of-type {\n",
       "        vertical-align: middle;\n",
       "    }\n",
       "\n",
       "    .dataframe tbody tr th {\n",
       "        vertical-align: top;\n",
       "    }\n",
       "\n",
       "    .dataframe thead th {\n",
       "        text-align: right;\n",
       "    }\n",
       "</style>\n",
       "<table border=\"1\" class=\"dataframe\">\n",
       "  <thead>\n",
       "    <tr style=\"text-align: right;\">\n",
       "      <th></th>\n",
       "      <th>Unnamed: 0</th>\n",
       "      <th>county_code</th>\n",
       "      <th>COUNTY</th>\n",
       "      <th>STATEABBREVIATION</th>\n",
       "      <th>YEAR</th>\n",
       "      <th>AMAT_fac</th>\n",
       "      <th>HIVdiagnoses</th>\n",
       "      <th>HIVincidence</th>\n",
       "      <th>HIVprevalence</th>\n",
       "      <th>MH_fac</th>\n",
       "      <th>...</th>\n",
       "      <th>pctunmetneed</th>\n",
       "      <th>nonmedpain</th>\n",
       "      <th>ADULTMEN</th>\n",
       "      <th>MSM12MTH</th>\n",
       "      <th>MSM5YEAR</th>\n",
       "      <th>%msm12month</th>\n",
       "      <th>%msm5yr</th>\n",
       "      <th>unemployment_rate</th>\n",
       "      <th>poverty_rate</th>\n",
       "      <th>household_income</th>\n",
       "    </tr>\n",
       "  </thead>\n",
       "  <tbody>\n",
       "    <tr>\n",
       "      <th>0</th>\n",
       "      <td>0</td>\n",
       "      <td>1001</td>\n",
       "      <td>Autauga County</td>\n",
       "      <td>AL</td>\n",
       "      <td>2015</td>\n",
       "      <td>0.0</td>\n",
       "      <td>5.0</td>\n",
       "      <td>10.9</td>\n",
       "      <td>225.5</td>\n",
       "      <td>1.0</td>\n",
       "      <td>...</td>\n",
       "      <td>95.70</td>\n",
       "      <td>5.12</td>\n",
       "      <td>19410</td>\n",
       "      <td>333</td>\n",
       "      <td>514</td>\n",
       "      <td>1.715611</td>\n",
       "      <td>2.648120</td>\n",
       "      <td>8.5</td>\n",
       "      <td>12.8</td>\n",
       "      <td>20304</td>\n",
       "    </tr>\n",
       "    <tr>\n",
       "      <th>1</th>\n",
       "      <td>1</td>\n",
       "      <td>1003</td>\n",
       "      <td>Baldwin County</td>\n",
       "      <td>AL</td>\n",
       "      <td>2015</td>\n",
       "      <td>0.0</td>\n",
       "      <td>15.0</td>\n",
       "      <td>8.7</td>\n",
       "      <td>163.9</td>\n",
       "      <td>4.0</td>\n",
       "      <td>...</td>\n",
       "      <td>91.34</td>\n",
       "      <td>5.27</td>\n",
       "      <td>69724</td>\n",
       "      <td>925</td>\n",
       "      <td>1429</td>\n",
       "      <td>1.326659</td>\n",
       "      <td>2.049509</td>\n",
       "      <td>8.6</td>\n",
       "      <td>13.8</td>\n",
       "      <td>73058</td>\n",
       "    </tr>\n",
       "    <tr>\n",
       "      <th>2</th>\n",
       "      <td>2</td>\n",
       "      <td>1005</td>\n",
       "      <td>Barbour County</td>\n",
       "      <td>AL</td>\n",
       "      <td>2015</td>\n",
       "      <td>0.0</td>\n",
       "      <td>0.0</td>\n",
       "      <td>0.0</td>\n",
       "      <td>436.0</td>\n",
       "      <td>1.0</td>\n",
       "      <td>...</td>\n",
       "      <td>91.34</td>\n",
       "      <td>5.27</td>\n",
       "      <td>11567</td>\n",
       "      <td>82</td>\n",
       "      <td>127</td>\n",
       "      <td>0.708913</td>\n",
       "      <td>1.097951</td>\n",
       "      <td>14.2</td>\n",
       "      <td>24.1</td>\n",
       "      <td>9145</td>\n",
       "    </tr>\n",
       "    <tr>\n",
       "      <th>3</th>\n",
       "      <td>3</td>\n",
       "      <td>1007</td>\n",
       "      <td>Bibb County</td>\n",
       "      <td>AL</td>\n",
       "      <td>2015</td>\n",
       "      <td>0.0</td>\n",
       "      <td>0.0</td>\n",
       "      <td>0.0</td>\n",
       "      <td>191.9</td>\n",
       "      <td>0.0</td>\n",
       "      <td>...</td>\n",
       "      <td>91.86</td>\n",
       "      <td>5.62</td>\n",
       "      <td>9508</td>\n",
       "      <td>119</td>\n",
       "      <td>184</td>\n",
       "      <td>1.251578</td>\n",
       "      <td>1.935212</td>\n",
       "      <td>10.9</td>\n",
       "      <td>17.0</td>\n",
       "      <td>7078</td>\n",
       "    </tr>\n",
       "    <tr>\n",
       "      <th>4</th>\n",
       "      <td>4</td>\n",
       "      <td>1009</td>\n",
       "      <td>Blount County</td>\n",
       "      <td>AL</td>\n",
       "      <td>2015</td>\n",
       "      <td>0.0</td>\n",
       "      <td>5.0</td>\n",
       "      <td>10.4</td>\n",
       "      <td>95.4</td>\n",
       "      <td>1.0</td>\n",
       "      <td>...</td>\n",
       "      <td>91.86</td>\n",
       "      <td>5.62</td>\n",
       "      <td>21368</td>\n",
       "      <td>601</td>\n",
       "      <td>928</td>\n",
       "      <td>2.812617</td>\n",
       "      <td>4.342943</td>\n",
       "      <td>9.3</td>\n",
       "      <td>17.3</td>\n",
       "      <td>20934</td>\n",
       "    </tr>\n",
       "  </tbody>\n",
       "</table>\n",
       "<p>5 rows × 39 columns</p>\n",
       "</div>"
      ],
      "text/plain": [
       "   Unnamed: 0  county_code          COUNTY STATEABBREVIATION  YEAR  AMAT_fac  \\\n",
       "0           0         1001  Autauga County                AL  2015       0.0   \n",
       "1           1         1003  Baldwin County                AL  2015       0.0   \n",
       "2           2         1005  Barbour County                AL  2015       0.0   \n",
       "3           3         1007     Bibb County                AL  2015       0.0   \n",
       "4           4         1009   Blount County                AL  2015       0.0   \n",
       "\n",
       "   HIVdiagnoses  HIVincidence  HIVprevalence  MH_fac  ...  pctunmetneed  \\\n",
       "0           5.0          10.9          225.5     1.0  ...         95.70   \n",
       "1          15.0           8.7          163.9     4.0  ...         91.34   \n",
       "2           0.0           0.0          436.0     1.0  ...         91.34   \n",
       "3           0.0           0.0          191.9     0.0  ...         91.86   \n",
       "4           5.0          10.4           95.4     1.0  ...         91.86   \n",
       "\n",
       "   nonmedpain  ADULTMEN  MSM12MTH  MSM5YEAR  %msm12month   %msm5yr  \\\n",
       "0        5.12     19410       333       514     1.715611  2.648120   \n",
       "1        5.27     69724       925      1429     1.326659  2.049509   \n",
       "2        5.27     11567        82       127     0.708913  1.097951   \n",
       "3        5.62      9508       119       184     1.251578  1.935212   \n",
       "4        5.62     21368       601       928     2.812617  4.342943   \n",
       "\n",
       "   unemployment_rate  poverty_rate  household_income  \n",
       "0                8.5          12.8             20304  \n",
       "1                8.6          13.8             73058  \n",
       "2               14.2          24.1              9145  \n",
       "3               10.9          17.0              7078  \n",
       "4                9.3          17.3             20934  \n",
       "\n",
       "[5 rows x 39 columns]"
      ]
     },
     "execution_count": 32,
     "metadata": {},
     "output_type": "execute_result"
    }
   ],
   "source": [
    "df_main = pd.read_csv('merged_df.csv')\n",
    "df_main.head()"
   ]
  },
  {
   "cell_type": "code",
   "execution_count": 33,
   "metadata": {},
   "outputs": [
    {
     "name": "stdout",
     "output_type": "stream",
     "text": [
      "<class 'pandas.core.frame.DataFrame'>\n",
      "RangeIndex: 3140 entries, 0 to 3139\n",
      "Data columns (total 39 columns):\n",
      " #   Column             Non-Null Count  Dtype  \n",
      "---  ------             --------------  -----  \n",
      " 0   Unnamed: 0         3140 non-null   int64  \n",
      " 1   county_code        3140 non-null   int64  \n",
      " 2   COUNTY             3140 non-null   object \n",
      " 3   STATEABBREVIATION  3140 non-null   object \n",
      " 4   YEAR               3140 non-null   int64  \n",
      " 5   AMAT_fac           3140 non-null   float64\n",
      " 6   HIVdiagnoses       3140 non-null   float64\n",
      " 7   HIVincidence       3140 non-null   float64\n",
      " 8   HIVprevalence      3140 non-null   float64\n",
      " 9   MH_fac             3140 non-null   float64\n",
      " 10  Med_AMAT_fac       3140 non-null   float64\n",
      " 11  Med_MH_fac         3140 non-null   float64\n",
      " 12  Med_SA_fac         3140 non-null   float64\n",
      " 13  Med_SMAT_fac       3140 non-null   float64\n",
      " 14  Med_TMAT_fac       3140 non-null   float64\n",
      " 15  PLHIV              3140 non-null   float64\n",
      " 16  Population         3140 non-null   float64\n",
      " 17  SA_fac             3140 non-null   float64\n",
      " 18  SMAT_fac           3140 non-null   float64\n",
      " 19  TMAT_fac           3140 non-null   float64\n",
      " 20  drugdeathrate      3140 non-null   float64\n",
      " 21  drugdeathrate_est  3140 non-null   float64\n",
      " 22  drugdeaths         3140 non-null   float64\n",
      " 23  mme_percap         2963 non-null   float64\n",
      " 24  partD30dayrxrate   3046 non-null   float64\n",
      " 25  pctunins           3140 non-null   float64\n",
      " 26  num_SSPs           3140 non-null   float64\n",
      " 27  bup_phys           3140 non-null   float64\n",
      " 28  drugdep            3139 non-null   float64\n",
      " 29  pctunmetneed       3139 non-null   float64\n",
      " 30  nonmedpain         3139 non-null   float64\n",
      " 31  ADULTMEN           3140 non-null   int64  \n",
      " 32  MSM12MTH           3140 non-null   int64  \n",
      " 33  MSM5YEAR           3140 non-null   int64  \n",
      " 34  %msm12month        3140 non-null   float64\n",
      " 35  %msm5yr            3140 non-null   float64\n",
      " 36  unemployment_rate  3140 non-null   float64\n",
      " 37  poverty_rate       3140 non-null   float64\n",
      " 38  household_income   3140 non-null   int64  \n",
      "dtypes: float64(30), int64(7), object(2)\n",
      "memory usage: 956.8+ KB\n"
     ]
    }
   ],
   "source": [
    "df_main.info()"
   ]
  },
  {
   "cell_type": "code",
   "execution_count": 34,
   "metadata": {},
   "outputs": [
    {
     "data": {
      "text/plain": [
       "(0.0, 200.0)"
      ]
     },
     "execution_count": 34,
     "metadata": {},
     "output_type": "execute_result"
    },
    {
     "data": {
      "image/png": "[encoded data removed]",
      "text/plain": [
       "<Figure size 432x288 with 1 Axes>"
      ]
     },
     "metadata": {
      "needs_background": "light"
     },
     "output_type": "display_data"
    }
   ],
   "source": [
    "plt.hist(df_main['HIVincidence'], bins=400)\n",
    "plt.xlim(left=0, right=200)\n",
    "# plt.ylim(top=250);"
   ]
  },
  {
   "cell_type": "code",
   "execution_count": 35,
   "metadata": {},
   "outputs": [
    {
     "data": {
      "text/plain": [
       "count    3140.000000\n",
       "mean        4.046911\n",
       "std        16.575690\n",
       "min         0.000000\n",
       "25%         0.000000\n",
       "50%         0.000000\n",
       "75%         0.000000\n",
       "max       771.400000\n",
       "Name: HIVincidence, dtype: float64"
      ]
     },
     "execution_count": 35,
     "metadata": {},
     "output_type": "execute_result"
    }
   ],
   "source": [
    "df_main['HIVincidence'].describe()"
   ]
  },
  {
   "cell_type": "markdown",
   "metadata": {},
   "source": [
    "Vast majority of counties have an incidence rate of zero."
   ]
  },
  {
   "cell_type": "code",
   "execution_count": 36,
   "metadata": {},
   "outputs": [],
   "source": [
    "df_no_outliers = df_main[~((df_main['HIVincidence'] ==0) | (df_main['HIVincidence'] > 100))]"
   ]
  },
  {
   "cell_type": "code",
   "execution_count": 37,
   "metadata": {},
   "outputs": [
    {
     "data": {
      "text/plain": [
       "HIVincidence         1.000000\n",
       "HIVprevalence        0.421939\n",
       "HIVdiagnoses         0.267121\n",
       "PLHIV                0.221498\n",
       "bup_phys             0.196197\n",
       "drugdeaths           0.195530\n",
       "%msm12month          0.195191\n",
       "%msm5yr              0.195110\n",
       "household_income     0.192512\n",
       "Population           0.185847\n",
       "ADULTMEN             0.184088\n",
       "Med_MH_fac           0.182766\n",
       "MH_fac               0.181823\n",
       "Med_SA_fac           0.176013\n",
       "SMAT_fac             0.173340\n",
       "MSM12MTH             0.169512\n",
       "MSM5YEAR             0.169510\n",
       "SA_fac               0.165988\n",
       "TMAT_fac             0.165896\n",
       "Med_SMAT_fac         0.148172\n",
       "AMAT_fac             0.146125\n",
       "num_SSPs             0.145353\n",
       "Med_TMAT_fac         0.141801\n",
       "unemployment_rate    0.132974\n",
       "drugdep              0.118851\n",
       "Med_AMAT_fac         0.115791\n",
       "drugdeathrate        0.114383\n",
       "poverty_rate         0.091102\n",
       "partD30dayrxrate     0.090035\n",
       "nonmedpain           0.066670\n",
       "pctunins             0.051883\n",
       "pctunmetneed         0.044500\n",
       "mme_percap           0.041639\n",
       "drugdeathrate_est    0.014909\n",
       "county_code         -0.038473\n",
       "Unnamed: 0          -0.041532\n",
       "YEAR                      NaN\n",
       "Name: HIVincidence, dtype: float64"
      ]
     },
     "execution_count": 37,
     "metadata": {},
     "output_type": "execute_result"
    }
   ],
   "source": [
    "df_main.corr()['HIVincidence'].sort_values(ascending=False)"
   ]
  },
  {
   "cell_type": "code",
   "execution_count": 38,
   "metadata": {},
   "outputs": [
    {
     "data": {
      "text/plain": [
       "count    745.000000\n",
       "mean      15.861745\n",
       "std       12.553282\n",
       "min        1.500000\n",
       "25%        7.400000\n",
       "50%       11.500000\n",
       "75%       21.300000\n",
       "max       90.700000\n",
       "Name: HIVincidence, dtype: float64"
      ]
     },
     "execution_count": 38,
     "metadata": {},
     "output_type": "execute_result"
    }
   ],
   "source": [
    "df_no_outliers['HIVincidence'].describe()"
   ]
  },
  {
   "cell_type": "code",
   "execution_count": 39,
   "metadata": {},
   "outputs": [
    {
     "data": {
      "text/plain": [
       "HIVincidence         1.000000\n",
       "HIVprevalence        0.712629\n",
       "poverty_rate         0.456296\n",
       "pctunins             0.410541\n",
       "unemployment_rate    0.341830\n",
       "HIVdiagnoses         0.322255\n",
       "PLHIV                0.310832\n",
       "pctunmetneed         0.270963\n",
       "drugdep              0.156056\n",
       "%msm5yr              0.148199\n",
       "%msm12month          0.148175\n",
       "MSM5YEAR             0.146951\n",
       "MSM12MTH             0.146950\n",
       "bup_phys             0.113190\n",
       "AMAT_fac             0.084436\n",
       "nonmedpain           0.082629\n",
       "household_income     0.071924\n",
       "Population           0.070461\n",
       "Med_MH_fac           0.067594\n",
       "ADULTMEN             0.067525\n",
       "MH_fac               0.064977\n",
       "Med_SA_fac           0.061633\n",
       "SMAT_fac             0.060142\n",
       "partD30dayrxrate     0.057615\n",
       "SA_fac               0.048230\n",
       "Med_AMAT_fac         0.046140\n",
       "num_SSPs             0.045063\n",
       "Med_SMAT_fac         0.042629\n",
       "TMAT_fac             0.041488\n",
       "drugdeaths           0.033743\n",
       "Med_TMAT_fac         0.023717\n",
       "county_code         -0.038035\n",
       "Unnamed: 0          -0.042873\n",
       "drugdeathrate_est   -0.126516\n",
       "mme_percap          -0.164437\n",
       "drugdeathrate       -0.268719\n",
       "YEAR                      NaN\n",
       "Name: HIVincidence, dtype: float64"
      ]
     },
     "execution_count": 39,
     "metadata": {},
     "output_type": "execute_result"
    }
   ],
   "source": [
    "df_no_outliers.corr()['HIVincidence'].sort_values(ascending=False)\n"
   ]
  },
  {
   "cell_type": "markdown",
   "metadata": {},
   "source": [
    "Possible columns to eliminate: HIV diagnoses, PLHIV, %msm12month, MSM12MTH, MSM5YEAR"
   ]
  },
  {
   "cell_type": "code",
   "execution_count": 48,
   "metadata": {},
   "outputs": [
    {
     "data": {
      "text/plain": [
       "0       10.9\n",
       "1        8.7\n",
       "4       10.4\n",
       "5       90.7\n",
       "7       10.3\n",
       "        ... \n",
       "3085    15.3\n",
       "3089     3.3\n",
       "3096     4.9\n",
       "3098     6.0\n",
       "3112     1.5\n",
       "Name: HIVincidence, Length: 745, dtype: float64"
      ]
     },
     "execution_count": 48,
     "metadata": {},
     "output_type": "execute_result"
    }
   ],
   "source": [
    "y=df_no_outliers['HIVincidence']\n",
    "X=df_no_outliers.drop(columns=['%msm12month', 'MSM12MTH', 'MSM5YEAR', 'PLHIV', 'YEAR','COUNTY','Unnamed: 0','STATEABBREVIATION','county_code','drugdeathrate_est','drugdeaths','mme_percap','HIVincidence'])\n"
   ]
  },
  {
   "cell_type": "markdown",
   "metadata": {},
   "source": [
    "wanted to go with inferential:\n",
    "Inference: Use the model to learn about the data generation process."
   ]
  },
  {
   "cell_type": "code",
   "execution_count": null,
   "metadata": {},
   "outputs": [],
   "source": [
    "'''X = cars[[\"cylinders\", \"displacement\", \"horsepower\", \"weight\", \"acceleration\", \"american\", \"european\", \"asian\"]]\n",
    "y = cars[\"mpg\"]\n",
    "\n",
    "Do train test split\n",
    "In [83]:\n",
    "\n",
    "X_train, X_test, y_train, y_test = train_test_split(X,y)\n",
    "\n",
    "Fit using training set.\n",
    "In [84]:\n",
    "\n",
    "model = LinearRegression()\n",
    "model.fit(X_train, y_train)\n",
    "\n",
    "Out[84]:\n",
    "\n",
    "LinearRegression(copy_X=True, fit_intercept=True, n_jobs=None, normalize=False)\n",
    "\n",
    "Predict using the test features.\n",
    "In [85]:\n",
    "\n",
    "yhat = model.predict(X_test)\n",
    "\n",
    "Evaluate against the test target.\n",
    "In [86]:\n",
    "\n",
    "mse = mean_squared_error(y_test, yhat)\n",
    "print(mse)\n",
    "rmse = np.sqrt(mse)\n",
    "print(rmse)'''\n",
    "\n"
   ]
  },
  {
   "cell_type": "code",
   "execution_count": 51,
   "metadata": {},
   "outputs": [
    {
     "data": {
      "text/plain": [
       "LinearRegression()"
      ]
     },
     "execution_count": 51,
     "metadata": {},
     "output_type": "execute_result"
    }
   ],
   "source": [
    "X_train, X_test, y_train, y_test = train_test_split(X,y)\n",
    "model = LinearRegression()\n",
    "model.fit(X_train, y_train)\n"
   ]
  },
  {
   "cell_type": "code",
   "execution_count": 52,
   "metadata": {},
   "outputs": [],
   "source": [
    "y_pred=model.predict(X_test)"
   ]
  },
  {
   "cell_type": "code",
   "execution_count": 54,
   "metadata": {},
   "outputs": [
    {
     "data": {
      "text/plain": [
       "57.134067320026375"
      ]
     },
     "execution_count": 54,
     "metadata": {},
     "output_type": "execute_result"
    }
   ],
   "source": [
    "mse = mean_squared_error(y_test,y_pred)\n",
    "mse"
   ]
  },
  {
   "cell_type": "code",
   "execution_count": 56,
   "metadata": {},
   "outputs": [
    {
     "data": {
      "text/plain": [
       "7.558708045693151"
      ]
     },
     "execution_count": 56,
     "metadata": {},
     "output_type": "execute_result"
    }
   ],
   "source": [
    "rmse=np.sqrt(mse)\n",
    "rmse"
   ]
  },
  {
   "cell_type": "code",
   "execution_count": 58,
   "metadata": {},
   "outputs": [
    {
     "name": "stdout",
     "output_type": "stream",
     "text": [
      "                            OLS Regression Results                            \n",
      "==============================================================================\n",
      "Dep. Variable:           HIVincidence   R-squared:                       0.659\n",
      "Model:                            OLS   Adj. R-squared:                  0.647\n",
      "Method:                 Least Squares   F-statistic:                     53.39\n",
      "Date:                Fri, 05 Mar 2021   Prob (F-statistic):          1.34e-148\n",
      "Time:                        13:22:15   Log-Likelihood:                -2540.6\n",
      "No. Observations:                 745   AIC:                             5135.\n",
      "Df Residuals:                     718   BIC:                             5260.\n",
      "Df Model:                          26                                         \n",
      "Covariance Type:            nonrobust                                         \n",
      "=====================================================================================\n",
      "                        coef    std err          t      P>|t|      [0.025      0.975]\n",
      "-------------------------------------------------------------------------------------\n",
      "const               -15.4155      9.547     -1.615      0.107     -34.159       3.328\n",
      "AMAT_fac              0.1366      1.042      0.131      0.896      -1.909       2.182\n",
      "HIVdiagnoses          0.0332      0.006      5.680      0.000       0.022       0.045\n",
      "HIVprevalence         0.0257      0.001     17.371      0.000       0.023       0.029\n",
      "MH_fac               -0.0222      0.205     -0.108      0.914      -0.425       0.380\n",
      "Med_AMAT_fac          0.0835      1.159      0.072      0.943      -2.191       2.358\n",
      "Med_MH_fac            0.1021      0.225      0.454      0.650      -0.339       0.543\n",
      "Med_SA_fac           -0.0403      0.131     -0.308      0.758      -0.297       0.217\n",
      "Med_SMAT_fac         -0.6324      0.396     -1.597      0.111      -1.410       0.145\n",
      "Med_TMAT_fac          0.4349      0.583      0.746      0.456      -0.709       1.579\n",
      "Population        -2.712e-05    1.3e-05     -2.084      0.037   -5.27e-05   -1.57e-06\n",
      "SA_fac               -0.0228      0.070     -0.325      0.745      -0.161       0.115\n",
      "SMAT_fac              0.0925      0.324      0.285      0.776      -0.544       0.729\n",
      "TMAT_fac             -0.0238      0.452     -0.053      0.958      -0.911       0.863\n",
      "drugdeathrate        -0.1528      0.026     -5.828      0.000      -0.204      -0.101\n",
      "partD30dayrxrate      0.2487      0.315      0.791      0.429      -0.369       0.866\n",
      "pctunins              0.2784      0.083      3.360      0.001       0.116       0.441\n",
      "num_SSPs             -1.7545      0.487     -3.605      0.000      -2.710      -0.799\n",
      "bup_phys              0.0133      0.017      0.777      0.437      -0.020       0.047\n",
      "drugdep               0.9852      0.993      0.992      0.322      -0.965       2.936\n",
      "pctunmetneed          0.1037      0.098      1.062      0.289      -0.088       0.296\n",
      "nonmedpain            1.3261      0.609      2.177      0.030       0.130       2.522\n",
      "ADULTMEN           3.054e-05   3.82e-05      0.800      0.424   -4.44e-05       0.000\n",
      "%msm5yr              -0.0363      0.211     -0.172      0.863      -0.450       0.377\n",
      "unemployment_rate     0.1173      0.130      0.903      0.367      -0.138       0.372\n",
      "poverty_rate          0.1688      0.076      2.214      0.027       0.019       0.319\n",
      "household_income   3.338e-05   2.16e-05      1.545      0.123   -9.05e-06    7.58e-05\n",
      "==============================================================================\n",
      "Omnibus:                      358.075   Durbin-Watson:                   1.882\n",
      "Prob(Omnibus):                  0.000   Jarque-Bera (JB):             3911.427\n",
      "Skew:                           1.884   Prob(JB):                         0.00\n",
      "Kurtosis:                      13.574   Cond. No.                     2.74e+07\n",
      "==============================================================================\n",
      "\n",
      "Notes:\n",
      "[1] Standard Errors assume that the covariance matrix of the errors is correctly specified.\n",
      "[2] The condition number is large, 2.74e+07. This might indicate that there are\n",
      "strong multicollinearity or other numerical problems.\n"
     ]
    }
   ],
   "source": [
    "\n",
    "X = sm.add_constant(X) # adding a constant\n",
    "\n",
    "model = sm.OLS(y, X).fit()\n",
    "predictions = model.predict(X) \n",
    "\n",
    "print_model = model.summary()\n",
    "print(print_model)"
   ]
  },
  {
   "cell_type": "code",
   "execution_count": 61,
   "metadata": {},
   "outputs": [],
   "source": [
    "\n",
    "\n",
    "import numpy as np\n",
    "import pandas as pd\n",
    "from pandas.plotting import scatter_matrix\n",
    "\n",
    "from sklearn.linear_model import LinearRegression, Ridge, Lasso\n",
    "from sklearn.model_selection import train_test_split, KFold\n",
    "from sklearn.preprocessing import StandardScaler\n",
    "from sklearn.base import clone\n",
    "#from utils import XyScaler"
   ]
  },
  {
   "cell_type": "code",
   "execution_count": null,
   "metadata": {},
   "outputs": [],
   "source": []
  },
  {
   "cell_type": "code",
   "execution_count": 63,
   "metadata": {},
   "outputs": [
    {
     "name": "stderr",
     "output_type": "stream",
     "text": [
      "/home/binu/anaconda3/lib/python3.8/site-packages/sklearn/linear_model/_coordinate_descent.py:529: ConvergenceWarning: Objective did not converge. You might want to increase the number of iterations. Duality gap: 15765.567053443408, tolerance: 8.38814859498208\n",
      "  model = cd_fast.enet_coordinate_descent(\n"
     ]
    },
    {
     "data": {
      "text/plain": [
       "Lasso(alpha=0.5)"
      ]
     },
     "execution_count": 63,
     "metadata": {},
     "output_type": "execute_result"
    }
   ],
   "source": [
    "Lasso = Lasso(alpha=0.5)\n",
    "Lasso.fit(X_train, y_train)"
   ]
  },
  {
   "cell_type": "code",
   "execution_count": 65,
   "metadata": {},
   "outputs": [
    {
     "name": "stdout",
     "output_type": "stream",
     "text": [
      "MSE for Ridge(alpha=0.5): 59.16\n"
     ]
    }
   ],
   "source": [
    "def rss(y, y_hat):\n",
    "    return np.mean((y  - y_hat)**2)\n",
    "\n",
    "\n",
    "preds = Lasso.predict(X_test)\n",
    "mse = rss(y_test, preds)\n",
    "print(\"MSE for Ridge(alpha=0.5): {:2.2f}\".format(mse))\n",
    "\n"
   ]
  },
  {
   "cell_type": "code",
   "execution_count": 69,
   "metadata": {},
   "outputs": [],
   "source": [
    "def cv(X, y, base_estimator, n_folds, random_seed=154):\n",
    "    \"\"\"Estimate the in and out-of-sample error of a model using cross validation.\n",
    "    \n",
    "    Parameters\n",
    "    ----------\n",
    "    \n",
    "    X: np.array\n",
    "      Matrix of predictors.\n",
    "      \n",
    "    y: np.array\n",
    "      Target array.\n",
    "      \n",
    "    base_estimator: sklearn model object.\n",
    "      The estimator to fit.  Must have fit and predict methods.\n",
    "      \n",
    "    n_folds: int\n",
    "      The number of folds in the cross validation.\n",
    "      \n",
    "    random_seed: int\n",
    "      A seed for the random number generator, for repeatability.\n",
    "    \n",
    "    Returns\n",
    "    -------\n",
    "      \n",
    "    train_cv_errors, test_cv_errors: tuple of arrays\n",
    "      The training and testing errors for each fold of cross validation.\n",
    "    \"\"\"\n",
    "    kf = KFold(n_splits=n_folds, random_state=random_seed)\n",
    "    test_cv_errors, train_cv_errors = np.empty(n_folds), np.empty(n_folds)\n",
    "    for idx, (train_ind, test_ind) in enumerate(kf.split(X_train)):\n",
    "        # Split into train and test\n",
    "        X_cv_train, y_cv_train = X[train_ind], y[train_ind]\n",
    "        X_cv_test, y_cv_test = X[test_ind], y[test_ind]\n",
    "        # Standardize data.\n",
    "        standardizer = XyScaler()\n",
    "        standardizer.fit(X_cv_train, y_cv_train)\n",
    "        X_cv_train_std, y_cv_train_std = standardizer.transform(X_cv_train, y_cv_train)\n",
    "        X_cv_test_std, y_cv_test_std = standardizer.transform(X_cv_test, y_cv_test)\n",
    "        # Fit estimator\n",
    "        estimator = clone(base_estimator)\n",
    "        estimator.fit(X_cv_train_std, y_cv_train_std)\n",
    "        # Measure performance\n",
    "        y_hat_train = estimator.predict(X_cv_train_std)\n",
    "        y_hat_test = estimator.predict(X_cv_test_std)\n",
    "        # Calclate the error metrics\n",
    "        train_cv_errors[idx] = rss(y_cv_train_std, y_hat_train)\n",
    "        test_cv_errors[idx] = rss(y_cv_test_std, y_hat_test)\n",
    "    return train_cv_errors, test_cv_errors\n"
   ]
  },
  {
   "cell_type": "code",
   "execution_count": 70,
   "metadata": {},
   "outputs": [
    {
     "ename": "TypeError",
     "evalue": "'Lasso' object is not callable",
     "output_type": "error",
     "traceback": [
      "\u001b[0;31m---------------------------------------------------------------------------\u001b[0m",
      "\u001b[0;31mTypeError\u001b[0m                                 Traceback (most recent call last)",
      "\u001b[0;32m<ipython-input-70-10f961068440>\u001b[0m in \u001b[0;36m<module>\u001b[0;34m\u001b[0m\n\u001b[1;32m      1\u001b[0m \u001b[0mn_folds\u001b[0m \u001b[0;34m=\u001b[0m \u001b[0;36m10\u001b[0m\u001b[0;34m\u001b[0m\u001b[0;34m\u001b[0m\u001b[0m\n\u001b[1;32m      2\u001b[0m train_cv_errors, test_cv_errors = cv(X_train.values, y_train.values, \n\u001b[0;32m----> 3\u001b[0;31m                                      Lasso(alpha=0.5), n_folds=n_folds)\n\u001b[0m\u001b[1;32m      4\u001b[0m \u001b[0;34m\u001b[0m\u001b[0m\n",
      "\u001b[0;31mTypeError\u001b[0m: 'Lasso' object is not callable"
     ]
    }
   ],
   "source": [
    "n_folds = 10\n",
    "train_cv_errors, test_cv_errors = cv(X_train.values, y_train.values, \n",
    "                                     Lasso(alpha=0.5), n_folds=n_folds)\n",
    "\n"
   ]
  },
  {
   "cell_type": "code",
   "execution_count": 66,
   "metadata": {},
   "outputs": [],
   "source": [
    "def train_at_various_alphas(X, y, model, alphas, n_folds=10, **kwargs):\n",
    "    \"\"\"Train a regularized regression model using cross validation at various values of alpha.\n",
    "    \n",
    "    Parameters\n",
    "    ----------\n",
    "    \n",
    "    X: np.array\n",
    "      Matrix of predictors.\n",
    "      \n",
    "    y: np.array\n",
    "      Target array.\n",
    "      \n",
    "    model: sklearn model class\n",
    "      A class in sklearn that can be used to create a regularized regression object.  Options are `Ridge` and `Lasso`.\n",
    "      \n",
    "    alphas: numpy array\n",
    "      An array of regularization parameters.\n",
    "      \n",
    "    n_folds: int\n",
    "      Number of cross validation folds.\n",
    "      \n",
    "    Returns\n",
    "    -------\n",
    "    \n",
    "    cv_errors_train, cv_errors_test: tuple of DataFrame\n",
    "      DataFrames containing the training and testing errors for each value of \n",
    "      alpha and each cross validation fold.  Each row represents a CV fold,\n",
    "      and each column a value of alpha.\n",
    "    \"\"\"\n",
    "    cv_errors_train = pd.DataFrame(np.empty(shape=(n_folds, len(alphas))),\n",
    "                                     columns=alphas)\n",
    "    cv_errors_test = pd.DataFrame(np.empty(shape=(n_folds, len(alphas))),\n",
    "                                        columns=alphas)\n",
    "    for alpha in alphas:\n",
    "        train_fold_errors, test_fold_errors = cv(X, y, model(alpha=alpha, **kwargs), n_folds=n_folds)\n",
    "        cv_errors_train.loc[:, alpha] = train_fold_errors\n",
    "        cv_errors_test.loc[:, alpha] = test_fold_errors\n",
    "    return cv_errors_train, cv_errors_test"
   ]
  },
  {
   "cell_type": "code",
   "execution_count": 67,
   "metadata": {},
   "outputs": [
    {
     "ename": "NameError",
     "evalue": "name 'cv' is not defined",
     "output_type": "error",
     "traceback": [
      "\u001b[0;31m---------------------------------------------------------------------------\u001b[0m",
      "\u001b[0;31mNameError\u001b[0m                                 Traceback (most recent call last)",
      "\u001b[0;32m<ipython-input-67-1376b28e62a2>\u001b[0m in \u001b[0;36m<module>\u001b[0;34m\u001b[0m\n\u001b[1;32m      1\u001b[0m \u001b[0mlasso_alphas\u001b[0m \u001b[0;34m=\u001b[0m \u001b[0mnp\u001b[0m\u001b[0;34m.\u001b[0m\u001b[0mlogspace\u001b[0m\u001b[0;34m(\u001b[0m\u001b[0;34m-\u001b[0m\u001b[0;36m3\u001b[0m\u001b[0;34m,\u001b[0m \u001b[0;36m1\u001b[0m\u001b[0;34m,\u001b[0m \u001b[0mnum\u001b[0m\u001b[0;34m=\u001b[0m\u001b[0;36m250\u001b[0m\u001b[0;34m)\u001b[0m\u001b[0;34m\u001b[0m\u001b[0;34m\u001b[0m\u001b[0m\n\u001b[1;32m      2\u001b[0m \u001b[0;34m\u001b[0m\u001b[0m\n\u001b[0;32m----> 3\u001b[0;31m lasso_cv_errors_train, lasso_cv_errors_test = train_at_various_alphas(\n\u001b[0m\u001b[1;32m      4\u001b[0m     X_train.values, y_train.values, Lasso, lasso_alphas, max_iter=5000)\n",
      "\u001b[0;32m<ipython-input-66-c80eed45d45f>\u001b[0m in \u001b[0;36mtrain_at_various_alphas\u001b[0;34m(X, y, model, alphas, n_folds, **kwargs)\u001b[0m\n\u001b[1;32m     33\u001b[0m                                         columns=alphas)\n\u001b[1;32m     34\u001b[0m     \u001b[0;32mfor\u001b[0m \u001b[0malpha\u001b[0m \u001b[0;32min\u001b[0m \u001b[0malphas\u001b[0m\u001b[0;34m:\u001b[0m\u001b[0;34m\u001b[0m\u001b[0;34m\u001b[0m\u001b[0m\n\u001b[0;32m---> 35\u001b[0;31m         \u001b[0mtrain_fold_errors\u001b[0m\u001b[0;34m,\u001b[0m \u001b[0mtest_fold_errors\u001b[0m \u001b[0;34m=\u001b[0m \u001b[0mcv\u001b[0m\u001b[0;34m(\u001b[0m\u001b[0mX\u001b[0m\u001b[0;34m,\u001b[0m \u001b[0my\u001b[0m\u001b[0;34m,\u001b[0m \u001b[0mmodel\u001b[0m\u001b[0;34m(\u001b[0m\u001b[0malpha\u001b[0m\u001b[0;34m=\u001b[0m\u001b[0malpha\u001b[0m\u001b[0;34m,\u001b[0m \u001b[0;34m**\u001b[0m\u001b[0mkwargs\u001b[0m\u001b[0;34m)\u001b[0m\u001b[0;34m,\u001b[0m \u001b[0mn_folds\u001b[0m\u001b[0;34m=\u001b[0m\u001b[0mn_folds\u001b[0m\u001b[0;34m)\u001b[0m\u001b[0;34m\u001b[0m\u001b[0;34m\u001b[0m\u001b[0m\n\u001b[0m\u001b[1;32m     36\u001b[0m         \u001b[0mcv_errors_train\u001b[0m\u001b[0;34m.\u001b[0m\u001b[0mloc\u001b[0m\u001b[0;34m[\u001b[0m\u001b[0;34m:\u001b[0m\u001b[0;34m,\u001b[0m \u001b[0malpha\u001b[0m\u001b[0;34m]\u001b[0m \u001b[0;34m=\u001b[0m \u001b[0mtrain_fold_errors\u001b[0m\u001b[0;34m\u001b[0m\u001b[0;34m\u001b[0m\u001b[0m\n\u001b[1;32m     37\u001b[0m         \u001b[0mcv_errors_test\u001b[0m\u001b[0;34m.\u001b[0m\u001b[0mloc\u001b[0m\u001b[0;34m[\u001b[0m\u001b[0;34m:\u001b[0m\u001b[0;34m,\u001b[0m \u001b[0malpha\u001b[0m\u001b[0;34m]\u001b[0m \u001b[0;34m=\u001b[0m \u001b[0mtest_fold_errors\u001b[0m\u001b[0;34m\u001b[0m\u001b[0;34m\u001b[0m\u001b[0m\n",
      "\u001b[0;31mNameError\u001b[0m: name 'cv' is not defined"
     ]
    }
   ],
   "source": [
    "lasso_alphas = np.logspace(-3, 1, num=250)\n",
    "\n",
    "lasso_cv_errors_train, lasso_cv_errors_test = train_at_various_alphas(\n",
    "    X_train.values, y_train.values, Lasso, lasso_alphas, max_iter=5000)"
   ]
  },
  {
   "cell_type": "code",
   "execution_count": null,
   "metadata": {},
   "outputs": [],
   "source": [
    "def get_optimal_alpha(mean_cv_errors_test):\n",
    "    alphas = mean_cv_errors_test.index\n",
    "    optimal_idx = np.argmin(mean_cv_errors_test.values)\n",
    "    optimal_alpha = alphas[optimal_idx]\n",
    "    return optimal_alpha\n",
    "\n",
    "ridge_optimal_alpha = get_optimal_alpha(ridge_mean_cv_errors_test)\n",
    "\n",
    "\n"
   ]
  }
 ],
 "metadata": {
  "kernelspec": {
   "display_name": "Python 3",
   "language": "python",
   "name": "python3"
  },
  "language_info": {
   "codemirror_mode": {
    "name": "ipython",
    "version": 3
   },
   "file_extension": ".py",
   "mimetype": "text/x-python",
   "name": "python",
   "nbconvert_exporter": "python",
   "pygments_lexer": "ipython3",
   "version": "3.8.5"
  }
 },
 "nbformat": 4,
 "nbformat_minor": 5
}
